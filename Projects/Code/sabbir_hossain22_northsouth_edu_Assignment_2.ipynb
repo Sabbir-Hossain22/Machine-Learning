{
  "cells": [
    {
      "cell_type": "markdown",
      "metadata": {
        "id": "pm7-MCy15Vua"
      },
      "source": [
        "Dataset Name: Environment Temperature Change Data\n",
        "\n",
        "Description: This dataset contains global temperature change data from 1961 to 2019, broken down by area, month, and measurement type. It includes fields for temperature changes, standard deviations, and detailed year-wise temperature data for each region.\n",
        "\n",
        "Source: https://www.kaggle.com/datasets/sevgisarac/temperature-change?resource=download\n"
      ]
    },
    {
      "cell_type": "code",
      "execution_count": 29,
      "metadata": {
        "id": "KvvggM_Y5S7o"
      },
      "outputs": [],
      "source": [
        "# Importing necessary libraries\n",
        "import pandas as pd\n",
        "import numpy as np\n",
        "from sklearn.model_selection import train_test_split\n",
        "from sklearn.preprocessing import StandardScaler, LabelEncoder\n",
        "from imblearn.over_sampling import SMOTE\n",
        "from xgboost import XGBClassifier\n",
        "from sklearn.metrics import classification_report, accuracy_score, confusion_matrix, precision_score, recall_score, f1_score\n",
        "import matplotlib.pyplot as plt\n",
        "import seaborn as sns\n"
      ]
    },
    {
      "cell_type": "code",
      "execution_count": 30,
      "metadata": {
        "id": "ef5_cbgO5gAV"
      },
      "outputs": [],
      "source": [
        "#Load the dataset\n",
        "dataset_path = '/content/Environment_Temperature_change_E_All_Data_NOFLAG.csv'\n",
        "data = pd.read_csv(dataset_path, encoding='latin1')"
      ]
    },
    {
      "cell_type": "code",
      "execution_count": 31,
      "metadata": {
        "colab": {
          "base_uri": "https://localhost:8080/"
        },
        "id": "nDQDSofh6eiG",
        "outputId": "73df5748-9567-4b23-fd77-2bb2e3263bea"
      },
      "outputs": [
        {
          "output_type": "stream",
          "name": "stdout",
          "text": [
            "   Area Code         Area  Months Code    Months  Element Code  \\\n",
            "0          2  Afghanistan         7001   January          7271   \n",
            "1          2  Afghanistan         7001   January          6078   \n",
            "2          2  Afghanistan         7002  February          7271   \n",
            "3          2  Afghanistan         7002  February          6078   \n",
            "4          2  Afghanistan         7003     March          7271   \n",
            "\n",
            "              Element Unit  Y1961  Y1962  Y1963  ...  Y2010  Y2011  Y2012  \\\n",
            "0  Temperature change   °C  0.777  0.062  2.744  ...  3.601  1.179 -0.583   \n",
            "1  Standard Deviation   °C  1.950  1.950  1.950  ...  1.950  1.950  1.950   \n",
            "2  Temperature change   °C -1.743  2.465  3.919  ...  1.212  0.321 -3.201   \n",
            "3  Standard Deviation   °C  2.597  2.597  2.597  ...  2.597  2.597  2.597   \n",
            "4  Temperature change   °C  0.516  1.336  0.403  ...  3.390  0.748 -0.527   \n",
            "\n",
            "   Y2013  Y2014  Y2015  Y2016  Y2017  Y2018  Y2019  \n",
            "0  1.233  1.755  1.943  3.416  1.201  1.996  2.951  \n",
            "1  1.950  1.950  1.950  1.950  1.950  1.950  1.950  \n",
            "2  1.494 -3.187  2.699  2.251 -0.323  2.705  0.086  \n",
            "3  2.597  2.597  2.597  2.597  2.597  2.597  2.597  \n",
            "4  2.246 -0.076 -0.497  2.296  0.834  4.418  0.234  \n",
            "\n",
            "[5 rows x 66 columns]\n"
          ]
        }
      ],
      "source": [
        "print(data.head())"
      ]
    },
    {
      "cell_type": "code",
      "execution_count": 32,
      "metadata": {
        "colab": {
          "base_uri": "https://localhost:8080/"
        },
        "id": "4alTIy13G318",
        "outputId": "4d0b4c1d-8d40-4026-a681-7e61ade80841"
      },
      "outputs": [
        {
          "output_type": "stream",
          "name": "stdout",
          "text": [
            "Dataset Information:\n",
            "<class 'pandas.core.frame.DataFrame'>\n",
            "RangeIndex: 9656 entries, 0 to 9655\n",
            "Data columns (total 66 columns):\n",
            " #   Column        Non-Null Count  Dtype  \n",
            "---  ------        --------------  -----  \n",
            " 0   Area Code     9656 non-null   int64  \n",
            " 1   Area          9656 non-null   object \n",
            " 2   Months Code   9656 non-null   int64  \n",
            " 3   Months        9656 non-null   object \n",
            " 4   Element Code  9656 non-null   int64  \n",
            " 5   Element       9656 non-null   object \n",
            " 6   Unit          9656 non-null   object \n",
            " 7   Y1961         8287 non-null   float64\n",
            " 8   Y1962         8322 non-null   float64\n",
            " 9   Y1963         8294 non-null   float64\n",
            " 10  Y1964         8252 non-null   float64\n",
            " 11  Y1965         8281 non-null   float64\n",
            " 12  Y1966         8364 non-null   float64\n",
            " 13  Y1967         8347 non-null   float64\n",
            " 14  Y1968         8345 non-null   float64\n",
            " 15  Y1969         8326 non-null   float64\n",
            " 16  Y1970         8308 non-null   float64\n",
            " 17  Y1971         8303 non-null   float64\n",
            " 18  Y1972         8323 non-null   float64\n",
            " 19  Y1973         8394 non-null   float64\n",
            " 20  Y1974         8374 non-null   float64\n",
            " 21  Y1975         8280 non-null   float64\n",
            " 22  Y1976         8209 non-null   float64\n",
            " 23  Y1977         8257 non-null   float64\n",
            " 24  Y1978         8327 non-null   float64\n",
            " 25  Y1979         8290 non-null   float64\n",
            " 26  Y1980         8283 non-null   float64\n",
            " 27  Y1981         8276 non-null   float64\n",
            " 28  Y1982         8237 non-null   float64\n",
            " 29  Y1983         8205 non-null   float64\n",
            " 30  Y1984         8259 non-null   float64\n",
            " 31  Y1985         8216 non-null   float64\n",
            " 32  Y1986         8268 non-null   float64\n",
            " 33  Y1987         8284 non-null   float64\n",
            " 34  Y1988         8273 non-null   float64\n",
            " 35  Y1989         8257 non-null   float64\n",
            " 36  Y1990         8239 non-null   float64\n",
            " 37  Y1991         8158 non-null   float64\n",
            " 38  Y1992         8354 non-null   float64\n",
            " 39  Y1993         8315 non-null   float64\n",
            " 40  Y1994         8373 non-null   float64\n",
            " 41  Y1995         8409 non-null   float64\n",
            " 42  Y1996         8439 non-null   float64\n",
            " 43  Y1997         8309 non-null   float64\n",
            " 44  Y1998         8370 non-null   float64\n",
            " 45  Y1999         8324 non-null   float64\n",
            " 46  Y2000         8342 non-null   float64\n",
            " 47  Y2001         8241 non-null   float64\n",
            " 48  Y2002         8312 non-null   float64\n",
            " 49  Y2003         8390 non-null   float64\n",
            " 50  Y2004         8415 non-null   float64\n",
            " 51  Y2005         8424 non-null   float64\n",
            " 52  Y2006         8503 non-null   float64\n",
            " 53  Y2007         8534 non-null   float64\n",
            " 54  Y2008         8475 non-null   float64\n",
            " 55  Y2009         8419 non-null   float64\n",
            " 56  Y2010         8435 non-null   float64\n",
            " 57  Y2011         8437 non-null   float64\n",
            " 58  Y2012         8350 non-null   float64\n",
            " 59  Y2013         8427 non-null   float64\n",
            " 60  Y2014         8377 non-null   float64\n",
            " 61  Y2015         8361 non-null   float64\n",
            " 62  Y2016         8348 non-null   float64\n",
            " 63  Y2017         8366 non-null   float64\n",
            " 64  Y2018         8349 non-null   float64\n",
            " 65  Y2019         8365 non-null   float64\n",
            "dtypes: float64(59), int64(3), object(4)\n",
            "memory usage: 4.9+ MB\n"
          ]
        }
      ],
      "source": [
        "print(\"Dataset Information:\")\n",
        "data.info()"
      ]
    },
    {
      "cell_type": "code",
      "execution_count": 33,
      "metadata": {
        "colab": {
          "base_uri": "https://localhost:8080/"
        },
        "id": "PK32lAHzGfwE",
        "outputId": "034ec1e1-4970-4c89-b240-3beb67afd6c3"
      },
      "outputs": [
        {
          "output_type": "stream",
          "name": "stdout",
          "text": [
            "\n",
            "Missing Values:\n",
            "Area Code          0\n",
            "Area               0\n",
            "Months Code        0\n",
            "Months             0\n",
            "Element Code       0\n",
            "                ... \n",
            "Y2015           1295\n",
            "Y2016           1308\n",
            "Y2017           1290\n",
            "Y2018           1307\n",
            "Y2019           1291\n",
            "Length: 66, dtype: int64\n"
          ]
        }
      ],
      "source": [
        "# Check for missing values\n",
        "print(\"\\nMissing Values:\")\n",
        "print(data.isnull().sum())"
      ]
    },
    {
      "cell_type": "code",
      "execution_count": 34,
      "metadata": {
        "id": "HE0NnZet6oX9"
      },
      "outputs": [],
      "source": [
        "# Filtering the dataset to use only Temperature Change data\n",
        "data = data[data['Element'] == 'Temperature change']"
      ]
    },
    {
      "cell_type": "code",
      "execution_count": 35,
      "metadata": {
        "id": "6tcUr0cd64c-"
      },
      "outputs": [],
      "source": [
        "# Preprocess the dataset: Selecting relevant features and target\n",
        "# Define classes based on temperature change thresholds (e.g., Below Average, Average, Above Average)\n",
        "# Reshape the dataset from wide to long format\n",
        "columns_to_drop = ['Area Code', 'Months Code', 'Element Code', 'Unit', 'Element']\n",
        "data = data.drop(columns=[col for col in columns_to_drop if col in data.columns])\n",
        "data.iloc[:, 2:] = data.iloc[:, 2:].interpolate(axis=1)\n",
        "data = data.melt(id_vars=['Area', 'Months'], var_name='Year', value_name='Temperature Change')"
      ]
    },
    {
      "cell_type": "code",
      "execution_count": 36,
      "metadata": {
        "id": "s2yt_b8S7IuO"
      },
      "outputs": [],
      "source": [
        "# Defining temperature change classes\n",
        "if 'Temperature Change' not in data.columns:\n",
        "    raise KeyError(\"'Temperature Change' column is missing from the dataset after reshaping.\")\n",
        "\n",
        "# Define temperature change classes\n",
        "def classify_temp_change(temp):\n",
        "    if temp < 0:\n",
        "        return 'Below Average'\n",
        "    elif 0 <= temp <= 1:\n",
        "        return 'Average'\n",
        "    else:\n",
        "        return 'Above Average'\n"
      ]
    },
    {
      "cell_type": "code",
      "execution_count": 37,
      "metadata": {
        "id": "MGVehjCwJqw2"
      },
      "outputs": [],
      "source": [
        "# Apply classification to create the 'Class' column\n",
        "data['Class'] = data['Temperature Change'].apply(classify_temp_change)"
      ]
    },
    {
      "cell_type": "code",
      "execution_count": 38,
      "metadata": {
        "id": "fKeaiZDY7PxJ"
      },
      "outputs": [],
      "source": [
        "# Encode categorical variables\n",
        "label_encoder_area = LabelEncoder()\n",
        "label_encoder_months = LabelEncoder()\n",
        "label_encoder_class = LabelEncoder()\n",
        "data['Area'] = label_encoder_area.fit_transform(data['Area'])\n",
        "data['Months'] = label_encoder_months.fit_transform(data['Months'])\n",
        "data['Class'] = label_encoder_class.fit_transform(data['Class'])\n",
        "data['Year'] = data['Year'].str.extract('(\\d+)').astype(int)"
      ]
    },
    {
      "cell_type": "code",
      "execution_count": 39,
      "metadata": {
        "colab": {
          "base_uri": "https://localhost:8080/"
        },
        "id": "JduqTOuJ7Udz",
        "outputId": "73e49113-300b-48c1-d7c4-cfc65016f910"
      },
      "outputs": [
        {
          "output_type": "stream",
          "name": "stdout",
          "text": [
            "\n",
            "Preprocessed Data Sample:\n",
            "   Area  Months  Year  Temperature Change  Class\n",
            "0     0       5  1961               0.777      1\n",
            "1     0       4  1961              -1.743      2\n",
            "2     0       9  1961               0.516      1\n",
            "3     0       0  1961              -1.709      2\n",
            "4     0      11  1961               1.412      0\n"
          ]
        }
      ],
      "source": [
        "# Display preprocessed dataset sample\n",
        "print(\"\\nPreprocessed Data Sample:\")\n",
        "print(data.head())\n"
      ]
    },
    {
      "cell_type": "code",
      "execution_count": 40,
      "metadata": {
        "id": "gfekPpS-J6C2"
      },
      "outputs": [],
      "source": [
        "# Step 4: Splitting the Data\n",
        "# Separate features (X) and target (y)\n",
        "X = data[['Area', 'Months', 'Year']]\n",
        "y = data['Class']"
      ]
    },
    {
      "cell_type": "code",
      "execution_count": 41,
      "metadata": {
        "id": "smgBSvW6A-J2"
      },
      "outputs": [],
      "source": [
        "# Handle class imbalance using SMOTE\n",
        "smote = SMOTE(random_state=42)\n",
        "X_resampled, y_resampled = smote.fit_resample(X, y)"
      ]
    },
    {
      "cell_type": "code",
      "execution_count": 42,
      "metadata": {
        "id": "gZzgUb067f4Y"
      },
      "outputs": [],
      "source": [
        "# Split the dataset into training and testing sets\n",
        "X_train_full, X_test, y_train_full, y_test = train_test_split(\n",
        "    X_resampled, y_resampled, test_size=0.2, random_state=42\n",
        ")"
      ]
    },
    {
      "cell_type": "code",
      "execution_count": 43,
      "metadata": {
        "id": "ZN4x_4pjUJGQ"
      },
      "outputs": [],
      "source": [
        "# Further split the training set into training and validation sets\n",
        "X_train, X_val, y_train, y_val = train_test_split(X_train_full, y_train_full, test_size=0.25, random_state=42)  # 20% of the total data"
      ]
    },
    {
      "cell_type": "code",
      "execution_count": 44,
      "metadata": {
        "id": "zLTlwCmN7lgt"
      },
      "outputs": [],
      "source": [
        "# Scale the features\n",
        "scaler = StandardScaler()\n",
        "X_train = scaler.fit_transform(X_train)\n",
        "X_val = scaler.transform(X_val)\n",
        "X_test = scaler.transform(X_test)"
      ]
    },
    {
      "cell_type": "code",
      "execution_count": 45,
      "metadata": {
        "id": "NEKBoYJcSYko"
      },
      "outputs": [],
      "source": [
        "# Hyperparameter Tuning for XGBoost\n",
        "param_grid = {\n",
        "    'n_estimators': [50, 100, 150],\n",
        "    'max_depth': [3, 5, 7],\n",
        "    'learning_rate': [0.01, 0.1, 0.2],\n",
        "    'subsample': [0.8, 1.0],\n",
        "    'colsample_bytree': [0.8, 1.0]\n",
        "}"
      ]
    },
    {
      "cell_type": "code",
      "execution_count": 46,
      "metadata": {
        "colab": {
          "base_uri": "https://localhost:8080/",
          "height": 135
        },
        "id": "qZWdqJzuSlSF",
        "outputId": "832393c8-2c93-4459-a66b-dd7b4fdf1c77"
      },
      "outputs": [
        {
          "output_type": "stream",
          "name": "stdout",
          "text": [
            "Fitting 3 folds for each of 108 candidates, totalling 324 fits\n"
          ]
        },
        {
          "output_type": "execute_result",
          "data": {
            "text/plain": [
              "GridSearchCV(cv=3,\n",
              "             estimator=XGBClassifier(base_score=None, booster=None,\n",
              "                                     callbacks=None, colsample_bylevel=None,\n",
              "                                     colsample_bynode=None,\n",
              "                                     colsample_bytree=None,\n",
              "                                     early_stopping_rounds=None,\n",
              "                                     enable_categorical=False, eval_metric=None,\n",
              "                                     feature_types=None, gamma=None,\n",
              "                                     gpu_id=None, grow_policy=None,\n",
              "                                     importance_type=None,\n",
              "                                     interaction_constraints=None,\n",
              "                                     learning_rate=None,...\n",
              "                                     max_delta_step=None, max_depth=None,\n",
              "                                     max_leaves=None, min_child_weight=None,\n",
              "                                     missing=nan, monotone_constraints=None,\n",
              "                                     n_estimators=100, n_jobs=None,\n",
              "                                     num_parallel_tree=None, predictor=None,\n",
              "                                     random_state=42, ...),\n",
              "             n_jobs=-1,\n",
              "             param_grid={'colsample_bytree': [0.8, 1.0],\n",
              "                         'learning_rate': [0.01, 0.1, 0.2],\n",
              "                         'max_depth': [3, 5, 7], 'n_estimators': [50, 100, 150],\n",
              "                         'subsample': [0.8, 1.0]},\n",
              "             scoring='accuracy', verbose=1)"
            ],
            "text/html": [
              "<style>#sk-container-id-2 {color: black;background-color: white;}#sk-container-id-2 pre{padding: 0;}#sk-container-id-2 div.sk-toggleable {background-color: white;}#sk-container-id-2 label.sk-toggleable__label {cursor: pointer;display: block;width: 100%;margin-bottom: 0;padding: 0.3em;box-sizing: border-box;text-align: center;}#sk-container-id-2 label.sk-toggleable__label-arrow:before {content: \"▸\";float: left;margin-right: 0.25em;color: #696969;}#sk-container-id-2 label.sk-toggleable__label-arrow:hover:before {color: black;}#sk-container-id-2 div.sk-estimator:hover label.sk-toggleable__label-arrow:before {color: black;}#sk-container-id-2 div.sk-toggleable__content {max-height: 0;max-width: 0;overflow: hidden;text-align: left;background-color: #f0f8ff;}#sk-container-id-2 div.sk-toggleable__content pre {margin: 0.2em;color: black;border-radius: 0.25em;background-color: #f0f8ff;}#sk-container-id-2 input.sk-toggleable__control:checked~div.sk-toggleable__content {max-height: 200px;max-width: 100%;overflow: auto;}#sk-container-id-2 input.sk-toggleable__control:checked~label.sk-toggleable__label-arrow:before {content: \"▾\";}#sk-container-id-2 div.sk-estimator input.sk-toggleable__control:checked~label.sk-toggleable__label {background-color: #d4ebff;}#sk-container-id-2 div.sk-label input.sk-toggleable__control:checked~label.sk-toggleable__label {background-color: #d4ebff;}#sk-container-id-2 input.sk-hidden--visually {border: 0;clip: rect(1px 1px 1px 1px);clip: rect(1px, 1px, 1px, 1px);height: 1px;margin: -1px;overflow: hidden;padding: 0;position: absolute;width: 1px;}#sk-container-id-2 div.sk-estimator {font-family: monospace;background-color: #f0f8ff;border: 1px dotted black;border-radius: 0.25em;box-sizing: border-box;margin-bottom: 0.5em;}#sk-container-id-2 div.sk-estimator:hover {background-color: #d4ebff;}#sk-container-id-2 div.sk-parallel-item::after {content: \"\";width: 100%;border-bottom: 1px solid gray;flex-grow: 1;}#sk-container-id-2 div.sk-label:hover label.sk-toggleable__label {background-color: #d4ebff;}#sk-container-id-2 div.sk-serial::before {content: \"\";position: absolute;border-left: 1px solid gray;box-sizing: border-box;top: 0;bottom: 0;left: 50%;z-index: 0;}#sk-container-id-2 div.sk-serial {display: flex;flex-direction: column;align-items: center;background-color: white;padding-right: 0.2em;padding-left: 0.2em;position: relative;}#sk-container-id-2 div.sk-item {position: relative;z-index: 1;}#sk-container-id-2 div.sk-parallel {display: flex;align-items: stretch;justify-content: center;background-color: white;position: relative;}#sk-container-id-2 div.sk-item::before, #sk-container-id-2 div.sk-parallel-item::before {content: \"\";position: absolute;border-left: 1px solid gray;box-sizing: border-box;top: 0;bottom: 0;left: 50%;z-index: -1;}#sk-container-id-2 div.sk-parallel-item {display: flex;flex-direction: column;z-index: 1;position: relative;background-color: white;}#sk-container-id-2 div.sk-parallel-item:first-child::after {align-self: flex-end;width: 50%;}#sk-container-id-2 div.sk-parallel-item:last-child::after {align-self: flex-start;width: 50%;}#sk-container-id-2 div.sk-parallel-item:only-child::after {width: 0;}#sk-container-id-2 div.sk-dashed-wrapped {border: 1px dashed gray;margin: 0 0.4em 0.5em 0.4em;box-sizing: border-box;padding-bottom: 0.4em;background-color: white;}#sk-container-id-2 div.sk-label label {font-family: monospace;font-weight: bold;display: inline-block;line-height: 1.2em;}#sk-container-id-2 div.sk-label-container {text-align: center;}#sk-container-id-2 div.sk-container {/* jupyter's `normalize.less` sets `[hidden] { display: none; }` but bootstrap.min.css set `[hidden] { display: none !important; }` so we also need the `!important` here to be able to override the default hidden behavior on the sphinx rendered scikit-learn.org. See: https://github.com/scikit-learn/scikit-learn/issues/21755 */display: inline-block !important;position: relative;}#sk-container-id-2 div.sk-text-repr-fallback {display: none;}</style><div id=\"sk-container-id-2\" class=\"sk-top-container\"><div class=\"sk-text-repr-fallback\"><pre>GridSearchCV(cv=3,\n",
              "             estimator=XGBClassifier(base_score=None, booster=None,\n",
              "                                     callbacks=None, colsample_bylevel=None,\n",
              "                                     colsample_bynode=None,\n",
              "                                     colsample_bytree=None,\n",
              "                                     early_stopping_rounds=None,\n",
              "                                     enable_categorical=False, eval_metric=None,\n",
              "                                     feature_types=None, gamma=None,\n",
              "                                     gpu_id=None, grow_policy=None,\n",
              "                                     importance_type=None,\n",
              "                                     interaction_constraints=None,\n",
              "                                     learning_rate=None,...\n",
              "                                     max_delta_step=None, max_depth=None,\n",
              "                                     max_leaves=None, min_child_weight=None,\n",
              "                                     missing=nan, monotone_constraints=None,\n",
              "                                     n_estimators=100, n_jobs=None,\n",
              "                                     num_parallel_tree=None, predictor=None,\n",
              "                                     random_state=42, ...),\n",
              "             n_jobs=-1,\n",
              "             param_grid={&#x27;colsample_bytree&#x27;: [0.8, 1.0],\n",
              "                         &#x27;learning_rate&#x27;: [0.01, 0.1, 0.2],\n",
              "                         &#x27;max_depth&#x27;: [3, 5, 7], &#x27;n_estimators&#x27;: [50, 100, 150],\n",
              "                         &#x27;subsample&#x27;: [0.8, 1.0]},\n",
              "             scoring=&#x27;accuracy&#x27;, verbose=1)</pre><b>In a Jupyter environment, please rerun this cell to show the HTML representation or trust the notebook. <br />On GitHub, the HTML representation is unable to render, please try loading this page with nbviewer.org.</b></div><div class=\"sk-container\" hidden><div class=\"sk-item sk-dashed-wrapped\"><div class=\"sk-label-container\"><div class=\"sk-label sk-toggleable\"><input class=\"sk-toggleable__control sk-hidden--visually\" id=\"sk-estimator-id-4\" type=\"checkbox\" ><label for=\"sk-estimator-id-4\" class=\"sk-toggleable__label sk-toggleable__label-arrow\">GridSearchCV</label><div class=\"sk-toggleable__content\"><pre>GridSearchCV(cv=3,\n",
              "             estimator=XGBClassifier(base_score=None, booster=None,\n",
              "                                     callbacks=None, colsample_bylevel=None,\n",
              "                                     colsample_bynode=None,\n",
              "                                     colsample_bytree=None,\n",
              "                                     early_stopping_rounds=None,\n",
              "                                     enable_categorical=False, eval_metric=None,\n",
              "                                     feature_types=None, gamma=None,\n",
              "                                     gpu_id=None, grow_policy=None,\n",
              "                                     importance_type=None,\n",
              "                                     interaction_constraints=None,\n",
              "                                     learning_rate=None,...\n",
              "                                     max_delta_step=None, max_depth=None,\n",
              "                                     max_leaves=None, min_child_weight=None,\n",
              "                                     missing=nan, monotone_constraints=None,\n",
              "                                     n_estimators=100, n_jobs=None,\n",
              "                                     num_parallel_tree=None, predictor=None,\n",
              "                                     random_state=42, ...),\n",
              "             n_jobs=-1,\n",
              "             param_grid={&#x27;colsample_bytree&#x27;: [0.8, 1.0],\n",
              "                         &#x27;learning_rate&#x27;: [0.01, 0.1, 0.2],\n",
              "                         &#x27;max_depth&#x27;: [3, 5, 7], &#x27;n_estimators&#x27;: [50, 100, 150],\n",
              "                         &#x27;subsample&#x27;: [0.8, 1.0]},\n",
              "             scoring=&#x27;accuracy&#x27;, verbose=1)</pre></div></div></div><div class=\"sk-parallel\"><div class=\"sk-parallel-item\"><div class=\"sk-item\"><div class=\"sk-label-container\"><div class=\"sk-label sk-toggleable\"><input class=\"sk-toggleable__control sk-hidden--visually\" id=\"sk-estimator-id-5\" type=\"checkbox\" ><label for=\"sk-estimator-id-5\" class=\"sk-toggleable__label sk-toggleable__label-arrow\">estimator: XGBClassifier</label><div class=\"sk-toggleable__content\"><pre>XGBClassifier(base_score=None, booster=None, callbacks=None,\n",
              "              colsample_bylevel=None, colsample_bynode=None,\n",
              "              colsample_bytree=None, early_stopping_rounds=None,\n",
              "              enable_categorical=False, eval_metric=None, feature_types=None,\n",
              "              gamma=None, gpu_id=None, grow_policy=None, importance_type=None,\n",
              "              interaction_constraints=None, learning_rate=None, max_bin=None,\n",
              "              max_cat_threshold=None, max_cat_to_onehot=None,\n",
              "              max_delta_step=None, max_depth=None, max_leaves=None,\n",
              "              min_child_weight=None, missing=nan, monotone_constraints=None,\n",
              "              n_estimators=100, n_jobs=None, num_parallel_tree=None,\n",
              "              predictor=None, random_state=42, ...)</pre></div></div></div><div class=\"sk-serial\"><div class=\"sk-item\"><div class=\"sk-estimator sk-toggleable\"><input class=\"sk-toggleable__control sk-hidden--visually\" id=\"sk-estimator-id-6\" type=\"checkbox\" ><label for=\"sk-estimator-id-6\" class=\"sk-toggleable__label sk-toggleable__label-arrow\">XGBClassifier</label><div class=\"sk-toggleable__content\"><pre>XGBClassifier(base_score=None, booster=None, callbacks=None,\n",
              "              colsample_bylevel=None, colsample_bynode=None,\n",
              "              colsample_bytree=None, early_stopping_rounds=None,\n",
              "              enable_categorical=False, eval_metric=None, feature_types=None,\n",
              "              gamma=None, gpu_id=None, grow_policy=None, importance_type=None,\n",
              "              interaction_constraints=None, learning_rate=None, max_bin=None,\n",
              "              max_cat_threshold=None, max_cat_to_onehot=None,\n",
              "              max_delta_step=None, max_depth=None, max_leaves=None,\n",
              "              min_child_weight=None, missing=nan, monotone_constraints=None,\n",
              "              n_estimators=100, n_jobs=None, num_parallel_tree=None,\n",
              "              predictor=None, random_state=42, ...)</pre></div></div></div></div></div></div></div></div></div></div>"
            ]
          },
          "metadata": {},
          "execution_count": 46
        }
      ],
      "source": [
        "from sklearn.model_selection import GridSearchCV\n",
        "xgb = XGBClassifier(random_state=42)\n",
        "grid_search = GridSearchCV(estimator=xgb, param_grid=param_grid, cv=3, scoring='accuracy', verbose=1, n_jobs=-1)\n",
        "grid_search.fit(X_train, y_train)\n"
      ]
    },
    {
      "cell_type": "code",
      "execution_count": 47,
      "metadata": {
        "id": "mzW2J8wY7ufg",
        "colab": {
          "base_uri": "https://localhost:8080/"
        },
        "outputId": "5ea88e73-e8b5-4496-dfa6-b64bb076cd69"
      },
      "outputs": [
        {
          "output_type": "stream",
          "name": "stdout",
          "text": [
            "\n",
            "Best Parameters from GridSearchCV:\n",
            "{'colsample_bytree': 1.0, 'learning_rate': 0.2, 'max_depth': 7, 'n_estimators': 150, 'subsample': 0.8}\n"
          ]
        }
      ],
      "source": [
        "# Defining a model\n",
        "best_params = grid_search.best_params_\n",
        "print(\"\\nBest Parameters from GridSearchCV:\")\n",
        "print(best_params)\n",
        "\n",
        "best_model = grid_search.best_estimator_"
      ]
    },
    {
      "cell_type": "code",
      "execution_count": 48,
      "metadata": {
        "id": "aCPIyZ5u8SJe"
      },
      "outputs": [],
      "source": [
        "# Classification and Evaluation\n",
        "# Predicting the target for the test dataset\n",
        "y_val_pred = best_model.predict(X_val)\n"
      ]
    },
    {
      "cell_type": "code",
      "execution_count": 49,
      "metadata": {
        "id": "fN3rLDmxP2Py",
        "colab": {
          "base_uri": "https://localhost:8080/"
        },
        "outputId": "fcd33c20-3c80-4d79-9f91-db8c87b557a2"
      },
      "outputs": [
        {
          "output_type": "stream",
          "name": "stdout",
          "text": [
            "\n",
            "Validation Set Evaluation Metrics:\n",
            "Accuracy: 0.68\n",
            "Precision: 0.68\n",
            "Recall: 0.68\n",
            "F1-Score: 0.68\n"
          ]
        }
      ],
      "source": [
        "# Evaluate the model with various metrics\n",
        "val_accuracy = accuracy_score(y_val, y_val_pred)\n",
        "val_precision = precision_score(y_val, y_val_pred, average='weighted')\n",
        "val_recall = recall_score(y_val, y_val_pred, average='weighted')\n",
        "val_f1 = f1_score(y_val, y_val_pred, average='weighted')\n",
        "\n",
        "print(\"\\nValidation Set Evaluation Metrics:\")\n",
        "print(f\"Accuracy: {val_accuracy:.2f}\")\n",
        "print(f\"Precision: {val_precision:.2f}\")\n",
        "print(f\"Recall: {val_recall:.2f}\")\n",
        "print(f\"F1-Score: {val_f1:.2f}\")"
      ]
    },
    {
      "cell_type": "code",
      "execution_count": 50,
      "metadata": {
        "id": "ya_wj1hZWTy5"
      },
      "outputs": [],
      "source": [
        "# Step 7: Final Model Evaluation on Test Set\n",
        "# Predict the target for the test dataset\n",
        "y_test_pred = best_model.predict(X_test)"
      ]
    },
    {
      "cell_type": "code",
      "execution_count": 51,
      "metadata": {
        "id": "KEJNyYq_P7nH",
        "colab": {
          "base_uri": "https://localhost:8080/"
        },
        "outputId": "10c01ac5-0bfa-41ef-ec21-4b851aae32f2"
      },
      "outputs": [
        {
          "output_type": "stream",
          "name": "stdout",
          "text": [
            "\n",
            "Test Set Evaluation Metrics:\n",
            "Accuracy: 0.69\n",
            "Precision: 0.69\n",
            "Recall: 0.69\n",
            "F1-Score: 0.69\n",
            "\n",
            "Classification Report (Test Set):\n",
            "               precision    recall  f1-score   support\n",
            "\n",
            "Above Average       0.75      0.76      0.75     25274\n",
            "      Average       0.64      0.58      0.61     25475\n",
            "Below Average       0.67      0.72      0.69     25211\n",
            "\n",
            "     accuracy                           0.69     75960\n",
            "    macro avg       0.69      0.69      0.69     75960\n",
            " weighted avg       0.69      0.69      0.69     75960\n",
            "\n"
          ]
        }
      ],
      "source": [
        "# Test set metrics\n",
        "test_accuracy = accuracy_score(y_test, y_test_pred)\n",
        "test_precision = precision_score(y_test, y_test_pred, average='weighted')\n",
        "test_recall = recall_score(y_test, y_test_pred, average='weighted')\n",
        "test_f1 = f1_score(y_test, y_test_pred, average='weighted')\n",
        "\n",
        "print(\"\\nTest Set Evaluation Metrics:\")\n",
        "print(f\"Accuracy: {test_accuracy:.2f}\")\n",
        "print(f\"Precision: {test_precision:.2f}\")\n",
        "print(f\"Recall: {test_recall:.2f}\")\n",
        "print(f\"F1-Score: {test_f1:.2f}\")\n",
        "\n",
        "print(\"\\nClassification Report (Test Set):\")\n",
        "print(classification_report(y_test, y_test_pred, target_names=label_encoder_class.classes_))"
      ]
    },
    {
      "cell_type": "code",
      "execution_count": 54,
      "metadata": {
        "id": "02mfF_vJQByr",
        "colab": {
          "base_uri": "https://localhost:8080/",
          "height": 607
        },
        "outputId": "bffeb4ae-7cd2-471a-81be-062c28be5bb1"
      },
      "outputs": [
        {
          "output_type": "display_data",
          "data": {
            "text/plain": [
              "<Figure size 800x600 with 1 Axes>"
            ],
            "image/png": "[encoded data removed]"
          },
          "metadata": {}
        }
      ],
      "source": [
        "# Display the confusion matrix\n",
        "# Visualize the confusion matrix\n",
        "# Display the confusion matrix\n",
        "# Visualize the confusion matrix\n",
        "pconf_matrix = confusion_matrix(y_test, y_test_pred)\n",
        "plt.figure(figsize=(8, 6))\n",
        "# Changed 'conf_matrix' to 'pconf_matrix' in the heatmap function call\n",
        "sns.heatmap(pconf_matrix, annot=True, fmt='d', cmap='Blues', cbar=False,\n",
        "            xticklabels=label_encoder_class.classes_, yticklabels=label_encoder_class.classes_)\n",
        "plt.title('Confusion Matrix')\n",
        "plt.xlabel('Predicted Labels')\n",
        "plt.ylabel('True Labels')\n",
        "plt.tight_layout()\n",
        "plt.show()\n",
        "\n",
        "\n"
      ]
    },
    {
      "cell_type": "code",
      "execution_count": 55,
      "metadata": {
        "id": "hJv5N0HwQHKg"
      },
      "outputs": [],
      "source": [
        "# Simple Prediction Example\n",
        "# Predict the class for a sample input\n",
        "def predict_sample(area, month, year):\n",
        "    # Prepare the sample input\n",
        "    sample = pd.DataFrame([[area, month, year]], columns=['Area', 'Months', 'Year'])\n",
        "    sample['Area'] = label_encoder_area.transform(sample['Area'])\n",
        "    sample['Months'] = label_encoder_months.transform(sample['Months'])\n",
        "    sample = scaler.transform(sample)\n",
        "    # Predict the class\n",
        "    prediction = best_model.predict(sample)\n",
        "    return label_encoder_class.inverse_transform(prediction)[0]"
      ]
    },
    {
      "cell_type": "code",
      "execution_count": 56,
      "metadata": {
        "id": "mxEYfmCIQQsb",
        "colab": {
          "base_uri": "https://localhost:8080/"
        },
        "outputId": "ae2713e2-f257-423d-a7ff-20af10544575"
      },
      "outputs": [
        {
          "output_type": "stream",
          "name": "stdout",
          "text": [
            "\n",
            "Predicted Class for sample (Afghanistan, January, 2020): Above Average\n"
          ]
        }
      ],
      "source": [
        "# Example usage\n",
        "sample_prediction = predict_sample('Afghanistan', 'January', 2020)\n",
        "print(f\"\\nPredicted Class for sample (Afghanistan, January, 2020): {sample_prediction}\")"
      ]
    },
    {
      "cell_type": "code",
      "execution_count": 58,
      "metadata": {
        "id": "OosyRt_sRHCt",
        "colab": {
          "base_uri": "https://localhost:8080/"
        },
        "outputId": "69945241-9fbb-49d2-e9ff-e1cfd80dbe3a"
      },
      "outputs": [
        {
          "output_type": "stream",
          "name": "stdout",
          "text": [
            "\n",
            "Insights and Conclusion:\n",
            "- Key challenges faced during preprocessing included handling missing values and reshaping the dataset from wide to long format.\n",
            "- I tried different different models but XG did the best thats why I am use this model The XGBoost classifier performed well with the following evaluation metrics :\n",
            "  Accuracy: 0.69, Precision: 0.69, Recall: 0.69, F1-Score: 0.69\n",
            "- The use of SMOTE effectively addressed the class imbalance issue, improving the model's ability to generalize.\n",
            "- Potential areas for improvement include Accuracy, trying other models like Random Forest or LightGBM, and exploring additional feature engineering techniques.\n"
          ]
        }
      ],
      "source": [
        "# Insights and Conclusion\n",
        "# Insights and Conclusion\n",
        "print(\"\\nInsights and Conclusion:\")\n",
        "print(\"- Key challenges faced during preprocessing included handling missing values and reshaping the dataset from wide to long format.\")\n",
        "print(\"- I tried different different models but XG did the best thats why I am use this model The XGBoost classifier performed well with the following evaluation metrics :\")\n",
        "# Use the correct variable names for accuracy, precision, recall, and f1-score\n",
        "print(f\"  Accuracy: {test_accuracy:.2f}, Precision: {test_precision:.2f}, Recall: {test_recall:.2f}, F1-Score: {test_f1:.2f}\")\n",
        "print(\"- The use of SMOTE effectively addressed the class imbalance issue, improving the model's ability to generalize.\")\n",
        "print(\"- Potential areas for improvement include Accuracy, trying other models like Random Forest or LightGBM, and exploring additional feature engineering techniques.\")"
      ]
    }
  ],
  "metadata": {
    "colab": {
      "provenance": []
    },
    "kernelspec": {
      "display_name": "Python 3",
      "name": "python3"
    },
    "language_info": {
      "name": "python"
    }
  },
  "nbformat": 4,
  "nbformat_minor": 0
}