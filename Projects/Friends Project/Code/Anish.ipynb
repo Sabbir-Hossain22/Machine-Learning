{
  "nbformat": 4,
  "nbformat_minor": 0,
  "metadata": {
    "colab": {
      "provenance": []
    },
    "kernelspec": {
      "name": "python3",
      "display_name": "Python 3"
    },
    "language_info": {
      "name": "python"
    }
  },
  "cells": [
    {
      "cell_type": "code",
      "execution_count": 1,
      "metadata": {
        "id": "wvrZG1EWuAuh"
      },
      "outputs": [],
      "source": [
        "import pandas as pd\n",
        "import numpy as np\n",
        "from sklearn.model_selection import train_test_split\n",
        "from sklearn.preprocessing import RobustScaler\n",
        "from sklearn.linear_model import LogisticRegression\n",
        "from sklearn.metrics import accuracy_score, confusion_matrix, precision_score, recall_score, f1_score\n",
        "import matplotlib.pyplot as plt"
      ]
    },
    {
      "cell_type": "code",
      "source": [
        "df = pd.read_csv('/content/RTA Data 2020 to July 2023.csv')\n",
        "\n",
        "print(df.columns)"
      ],
      "metadata": {
        "colab": {
          "base_uri": "https://localhost:8080/"
        },
        "id": "VH1_3bI5ujTR",
        "outputId": "2c39bff7-c6d2-4c1b-c605-03a1aa95670b"
      },
      "execution_count": 2,
      "outputs": [
        {
          "output_type": "stream",
          "name": "stdout",
          "text": [
            "Index(['EcYear', 'EcNumber', 'CallTime', 'EmergencyArea',\n",
            "       'TotalPatientsInEmergency', 'Gender', 'Age', 'HospitalName', 'Reason',\n",
            "       'responsetime', 'EducationTitle', 'InjuryType', 'Cause',\n",
            "       'PatientStatus', 'BicycleInvovled', 'BikesInvolved', 'BusesInvolved',\n",
            "       'CarsInvolved', 'CartInvovled', 'RickshawsInvolved', 'TractorInvovled',\n",
            "       'TrainsInvovled', 'TrucksInvolved', 'VansInvolved', 'OthersInvolved'],\n",
            "      dtype='object')\n"
          ]
        },
        {
          "output_type": "stream",
          "name": "stderr",
          "text": [
            "<ipython-input-2-a47963fff5b3>:1: DtypeWarning: Columns (0,1,4) have mixed types. Specify dtype option on import or set low_memory=False.\n",
            "  df = pd.read_csv('/content/RTA Data 2020 to July 2023.csv')\n"
          ]
        }
      ]
    },
    {
      "cell_type": "code",
      "source": [
        "df.head()"
      ],
      "metadata": {
        "colab": {
          "base_uri": "https://localhost:8080/",
          "height": 499
        },
        "id": "Ieb1XD5lH-3s",
        "outputId": "956d85a7-e31a-41be-940a-1084f1ca59c4"
      },
      "execution_count": 3,
      "outputs": [
        {
          "output_type": "execute_result",
          "data": {
            "text/plain": [
              "  EcYear EcNumber        CallTime  \\\n",
              "0   2020    31486  12/31/20 22:41   \n",
              "1   2020    31485  12/31/20 22:25   \n",
              "2   2020    31483  12/31/20 21:54   \n",
              "3   2020    31482  12/31/20 21:24   \n",
              "4   2020    31479  12/31/20 21:03   \n",
              "\n",
              "                                       EmergencyArea TotalPatientsInEmergency  \\\n",
              "0                      NEAR APS SCHOOL FORT ROAD RWP                        1   \n",
              "1  Infront of Daig.com, Near Dha gate 2,  gt road...                        1   \n",
              "2  Muhammadi chowk arshad bakery khyaban e sirsye...                        1   \n",
              "3  Gulzar e quaid, T/W Katcheri Near Attock Pump,...                        1   \n",
              "4  Taaj Company Gawalmandi Chowk Liaqat Baag Road...                        1   \n",
              "\n",
              "  Gender   Age HospitalName                             Reason  responsetime  \\\n",
              "0   Male  27.0          BBH                          Bike Slip          10.0   \n",
              "1   Male  20.0          NaN                   Car hit Footpath          12.0   \n",
              "2   Male  48.0          BBH              Rickshaw hit with Car          10.0   \n",
              "3   Male  45.0          NaN            Car hit Car and runaway           5.0   \n",
              "4   Male  22.0          NaN  Unknown Bike hit Bike and runaway           5.0   \n",
              "\n",
              "   ... BikesInvolved BusesInvolved CarsInvolved CartInvovled  \\\n",
              "0  ...           1.0           0.0          0.0          0.0   \n",
              "1  ...           0.0           0.0          1.0          0.0   \n",
              "2  ...           0.0           0.0          1.0          0.0   \n",
              "3  ...           0.0           0.0          2.0          0.0   \n",
              "4  ...           2.0           0.0          0.0          0.0   \n",
              "\n",
              "   RickshawsInvolved  TractorInvovled  TrainsInvovled  TrucksInvolved  \\\n",
              "0                0.0              0.0             0.0             0.0   \n",
              "1                0.0              0.0             0.0             0.0   \n",
              "2                1.0              0.0             0.0             0.0   \n",
              "3                0.0              0.0             0.0             0.0   \n",
              "4                0.0              0.0             0.0             0.0   \n",
              "\n",
              "   VansInvolved  OthersInvolved  \n",
              "0           0.0             0.0  \n",
              "1           0.0             0.0  \n",
              "2           0.0             0.0  \n",
              "3           0.0             0.0  \n",
              "4           0.0             0.0  \n",
              "\n",
              "[5 rows x 25 columns]"
            ],
            "text/html": [
              "\n",
              "  <div id=\"df-5a54300e-37cb-4ae2-8ffb-7ca0ba42d73d\" class=\"colab-df-container\">\n",
              "    <div>\n",
              "<style scoped>\n",
              "    .dataframe tbody tr th:only-of-type {\n",
              "        vertical-align: middle;\n",
              "    }\n",
              "\n",
              "    .dataframe tbody tr th {\n",
              "        vertical-align: top;\n",
              "    }\n",
              "\n",
              "    .dataframe thead th {\n",
              "        text-align: right;\n",
              "    }\n",
              "</style>\n",
              "<table border=\"1\" class=\"dataframe\">\n",
              "  <thead>\n",
              "    <tr style=\"text-align: right;\">\n",
              "      <th></th>\n",
              "      <th>EcYear</th>\n",
              "      <th>EcNumber</th>\n",
              "      <th>CallTime</th>\n",
              "      <th>EmergencyArea</th>\n",
              "      <th>TotalPatientsInEmergency</th>\n",
              "      <th>Gender</th>\n",
              "      <th>Age</th>\n",
              "      <th>HospitalName</th>\n",
              "      <th>Reason</th>\n",
              "      <th>responsetime</th>\n",
              "      <th>...</th>\n",
              "      <th>BikesInvolved</th>\n",
              "      <th>BusesInvolved</th>\n",
              "      <th>CarsInvolved</th>\n",
              "      <th>CartInvovled</th>\n",
              "      <th>RickshawsInvolved</th>\n",
              "      <th>TractorInvovled</th>\n",
              "      <th>TrainsInvovled</th>\n",
              "      <th>TrucksInvolved</th>\n",
              "      <th>VansInvolved</th>\n",
              "      <th>OthersInvolved</th>\n",
              "    </tr>\n",
              "  </thead>\n",
              "  <tbody>\n",
              "    <tr>\n",
              "      <th>0</th>\n",
              "      <td>2020</td>\n",
              "      <td>31486</td>\n",
              "      <td>12/31/20 22:41</td>\n",
              "      <td>NEAR APS SCHOOL FORT ROAD RWP</td>\n",
              "      <td>1</td>\n",
              "      <td>Male</td>\n",
              "      <td>27.0</td>\n",
              "      <td>BBH</td>\n",
              "      <td>Bike Slip</td>\n",
              "      <td>10.0</td>\n",
              "      <td>...</td>\n",
              "      <td>1.0</td>\n",
              "      <td>0.0</td>\n",
              "      <td>0.0</td>\n",
              "      <td>0.0</td>\n",
              "      <td>0.0</td>\n",
              "      <td>0.0</td>\n",
              "      <td>0.0</td>\n",
              "      <td>0.0</td>\n",
              "      <td>0.0</td>\n",
              "      <td>0.0</td>\n",
              "    </tr>\n",
              "    <tr>\n",
              "      <th>1</th>\n",
              "      <td>2020</td>\n",
              "      <td>31485</td>\n",
              "      <td>12/31/20 22:25</td>\n",
              "      <td>Infront of Daig.com, Near Dha gate 2,  gt road...</td>\n",
              "      <td>1</td>\n",
              "      <td>Male</td>\n",
              "      <td>20.0</td>\n",
              "      <td>NaN</td>\n",
              "      <td>Car hit Footpath</td>\n",
              "      <td>12.0</td>\n",
              "      <td>...</td>\n",
              "      <td>0.0</td>\n",
              "      <td>0.0</td>\n",
              "      <td>1.0</td>\n",
              "      <td>0.0</td>\n",
              "      <td>0.0</td>\n",
              "      <td>0.0</td>\n",
              "      <td>0.0</td>\n",
              "      <td>0.0</td>\n",
              "      <td>0.0</td>\n",
              "      <td>0.0</td>\n",
              "    </tr>\n",
              "    <tr>\n",
              "      <th>2</th>\n",
              "      <td>2020</td>\n",
              "      <td>31483</td>\n",
              "      <td>12/31/20 21:54</td>\n",
              "      <td>Muhammadi chowk arshad bakery khyaban e sirsye...</td>\n",
              "      <td>1</td>\n",
              "      <td>Male</td>\n",
              "      <td>48.0</td>\n",
              "      <td>BBH</td>\n",
              "      <td>Rickshaw hit with Car</td>\n",
              "      <td>10.0</td>\n",
              "      <td>...</td>\n",
              "      <td>0.0</td>\n",
              "      <td>0.0</td>\n",
              "      <td>1.0</td>\n",
              "      <td>0.0</td>\n",
              "      <td>1.0</td>\n",
              "      <td>0.0</td>\n",
              "      <td>0.0</td>\n",
              "      <td>0.0</td>\n",
              "      <td>0.0</td>\n",
              "      <td>0.0</td>\n",
              "    </tr>\n",
              "    <tr>\n",
              "      <th>3</th>\n",
              "      <td>2020</td>\n",
              "      <td>31482</td>\n",
              "      <td>12/31/20 21:24</td>\n",
              "      <td>Gulzar e quaid, T/W Katcheri Near Attock Pump,...</td>\n",
              "      <td>1</td>\n",
              "      <td>Male</td>\n",
              "      <td>45.0</td>\n",
              "      <td>NaN</td>\n",
              "      <td>Car hit Car and runaway</td>\n",
              "      <td>5.0</td>\n",
              "      <td>...</td>\n",
              "      <td>0.0</td>\n",
              "      <td>0.0</td>\n",
              "      <td>2.0</td>\n",
              "      <td>0.0</td>\n",
              "      <td>0.0</td>\n",
              "      <td>0.0</td>\n",
              "      <td>0.0</td>\n",
              "      <td>0.0</td>\n",
              "      <td>0.0</td>\n",
              "      <td>0.0</td>\n",
              "    </tr>\n",
              "    <tr>\n",
              "      <th>4</th>\n",
              "      <td>2020</td>\n",
              "      <td>31479</td>\n",
              "      <td>12/31/20 21:03</td>\n",
              "      <td>Taaj Company Gawalmandi Chowk Liaqat Baag Road...</td>\n",
              "      <td>1</td>\n",
              "      <td>Male</td>\n",
              "      <td>22.0</td>\n",
              "      <td>NaN</td>\n",
              "      <td>Unknown Bike hit Bike and runaway</td>\n",
              "      <td>5.0</td>\n",
              "      <td>...</td>\n",
              "      <td>2.0</td>\n",
              "      <td>0.0</td>\n",
              "      <td>0.0</td>\n",
              "      <td>0.0</td>\n",
              "      <td>0.0</td>\n",
              "      <td>0.0</td>\n",
              "      <td>0.0</td>\n",
              "      <td>0.0</td>\n",
              "      <td>0.0</td>\n",
              "      <td>0.0</td>\n",
              "    </tr>\n",
              "  </tbody>\n",
              "</table>\n",
              "<p>5 rows × 25 columns</p>\n",
              "</div>\n",
              "    <div class=\"colab-df-buttons\">\n",
              "\n",
              "  <div class=\"colab-df-container\">\n",
              "    <button class=\"colab-df-convert\" onclick=\"convertToInteractive('df-5a54300e-37cb-4ae2-8ffb-7ca0ba42d73d')\"\n",
              "            title=\"Convert this dataframe to an interactive table.\"\n",
              "            style=\"display:none;\">\n",
              "\n",
              "  <svg xmlns=\"http://www.w3.org/2000/svg\" height=\"24px\" viewBox=\"0 -960 960 960\">\n",
              "    <path d=\"M120-120v-720h720v720H120Zm60-500h600v-160H180v160Zm220 220h160v-160H400v160Zm0 220h160v-160H400v160ZM180-400h160v-160H180v160Zm440 0h160v-160H620v160ZM180-180h160v-160H180v160Zm440 0h160v-160H620v160Z\"/>\n",
              "  </svg>\n",
              "    </button>\n",
              "\n",
              "  <style>\n",
              "    .colab-df-container {\n",
              "      display:flex;\n",
              "      gap: 12px;\n",
              "    }\n",
              "\n",
              "    .colab-df-convert {\n",
              "      background-color: #E8F0FE;\n",
              "      border: none;\n",
              "      border-radius: 50%;\n",
              "      cursor: pointer;\n",
              "      display: none;\n",
              "      fill: #1967D2;\n",
              "      height: 32px;\n",
              "      padding: 0 0 0 0;\n",
              "      width: 32px;\n",
              "    }\n",
              "\n",
              "    .colab-df-convert:hover {\n",
              "      background-color: #E2EBFA;\n",
              "      box-shadow: 0px 1px 2px rgba(60, 64, 67, 0.3), 0px 1px 3px 1px rgba(60, 64, 67, 0.15);\n",
              "      fill: #174EA6;\n",
              "    }\n",
              "\n",
              "    .colab-df-buttons div {\n",
              "      margin-bottom: 4px;\n",
              "    }\n",
              "\n",
              "    [theme=dark] .colab-df-convert {\n",
              "      background-color: #3B4455;\n",
              "      fill: #D2E3FC;\n",
              "    }\n",
              "\n",
              "    [theme=dark] .colab-df-convert:hover {\n",
              "      background-color: #434B5C;\n",
              "      box-shadow: 0px 1px 3px 1px rgba(0, 0, 0, 0.15);\n",
              "      filter: drop-shadow(0px 1px 2px rgba(0, 0, 0, 0.3));\n",
              "      fill: #FFFFFF;\n",
              "    }\n",
              "  </style>\n",
              "\n",
              "    <script>\n",
              "      const buttonEl =\n",
              "        document.querySelector('#df-5a54300e-37cb-4ae2-8ffb-7ca0ba42d73d button.colab-df-convert');\n",
              "      buttonEl.style.display =\n",
              "        google.colab.kernel.accessAllowed ? 'block' : 'none';\n",
              "\n",
              "      async function convertToInteractive(key) {\n",
              "        const element = document.querySelector('#df-5a54300e-37cb-4ae2-8ffb-7ca0ba42d73d');\n",
              "        const dataTable =\n",
              "          await google.colab.kernel.invokeFunction('convertToInteractive',\n",
              "                                                    [key], {});\n",
              "        if (!dataTable) return;\n",
              "\n",
              "        const docLinkHtml = 'Like what you see? Visit the ' +\n",
              "          '<a target=\"_blank\" href=https://colab.research.google.com/notebooks/data_table.ipynb>data table notebook</a>'\n",
              "          + ' to learn more about interactive tables.';\n",
              "        element.innerHTML = '';\n",
              "        dataTable['output_type'] = 'display_data';\n",
              "        await google.colab.output.renderOutput(dataTable, element);\n",
              "        const docLink = document.createElement('div');\n",
              "        docLink.innerHTML = docLinkHtml;\n",
              "        element.appendChild(docLink);\n",
              "      }\n",
              "    </script>\n",
              "  </div>\n",
              "\n",
              "\n",
              "<div id=\"df-f9f50fd6-4b72-44b6-a2de-2df255201187\">\n",
              "  <button class=\"colab-df-quickchart\" onclick=\"quickchart('df-f9f50fd6-4b72-44b6-a2de-2df255201187')\"\n",
              "            title=\"Suggest charts\"\n",
              "            style=\"display:none;\">\n",
              "\n",
              "<svg xmlns=\"http://www.w3.org/2000/svg\" height=\"24px\"viewBox=\"0 0 24 24\"\n",
              "     width=\"24px\">\n",
              "    <g>\n",
              "        <path d=\"M19 3H5c-1.1 0-2 .9-2 2v14c0 1.1.9 2 2 2h14c1.1 0 2-.9 2-2V5c0-1.1-.9-2-2-2zM9 17H7v-7h2v7zm4 0h-2V7h2v10zm4 0h-2v-4h2v4z\"/>\n",
              "    </g>\n",
              "</svg>\n",
              "  </button>\n",
              "\n",
              "<style>\n",
              "  .colab-df-quickchart {\n",
              "      --bg-color: #E8F0FE;\n",
              "      --fill-color: #1967D2;\n",
              "      --hover-bg-color: #E2EBFA;\n",
              "      --hover-fill-color: #174EA6;\n",
              "      --disabled-fill-color: #AAA;\n",
              "      --disabled-bg-color: #DDD;\n",
              "  }\n",
              "\n",
              "  [theme=dark] .colab-df-quickchart {\n",
              "      --bg-color: #3B4455;\n",
              "      --fill-color: #D2E3FC;\n",
              "      --hover-bg-color: #434B5C;\n",
              "      --hover-fill-color: #FFFFFF;\n",
              "      --disabled-bg-color: #3B4455;\n",
              "      --disabled-fill-color: #666;\n",
              "  }\n",
              "\n",
              "  .colab-df-quickchart {\n",
              "    background-color: var(--bg-color);\n",
              "    border: none;\n",
              "    border-radius: 50%;\n",
              "    cursor: pointer;\n",
              "    display: none;\n",
              "    fill: var(--fill-color);\n",
              "    height: 32px;\n",
              "    padding: 0;\n",
              "    width: 32px;\n",
              "  }\n",
              "\n",
              "  .colab-df-quickchart:hover {\n",
              "    background-color: var(--hover-bg-color);\n",
              "    box-shadow: 0 1px 2px rgba(60, 64, 67, 0.3), 0 1px 3px 1px rgba(60, 64, 67, 0.15);\n",
              "    fill: var(--button-hover-fill-color);\n",
              "  }\n",
              "\n",
              "  .colab-df-quickchart-complete:disabled,\n",
              "  .colab-df-quickchart-complete:disabled:hover {\n",
              "    background-color: var(--disabled-bg-color);\n",
              "    fill: var(--disabled-fill-color);\n",
              "    box-shadow: none;\n",
              "  }\n",
              "\n",
              "  .colab-df-spinner {\n",
              "    border: 2px solid var(--fill-color);\n",
              "    border-color: transparent;\n",
              "    border-bottom-color: var(--fill-color);\n",
              "    animation:\n",
              "      spin 1s steps(1) infinite;\n",
              "  }\n",
              "\n",
              "  @keyframes spin {\n",
              "    0% {\n",
              "      border-color: transparent;\n",
              "      border-bottom-color: var(--fill-color);\n",
              "      border-left-color: var(--fill-color);\n",
              "    }\n",
              "    20% {\n",
              "      border-color: transparent;\n",
              "      border-left-color: var(--fill-color);\n",
              "      border-top-color: var(--fill-color);\n",
              "    }\n",
              "    30% {\n",
              "      border-color: transparent;\n",
              "      border-left-color: var(--fill-color);\n",
              "      border-top-color: var(--fill-color);\n",
              "      border-right-color: var(--fill-color);\n",
              "    }\n",
              "    40% {\n",
              "      border-color: transparent;\n",
              "      border-right-color: var(--fill-color);\n",
              "      border-top-color: var(--fill-color);\n",
              "    }\n",
              "    60% {\n",
              "      border-color: transparent;\n",
              "      border-right-color: var(--fill-color);\n",
              "    }\n",
              "    80% {\n",
              "      border-color: transparent;\n",
              "      border-right-color: var(--fill-color);\n",
              "      border-bottom-color: var(--fill-color);\n",
              "    }\n",
              "    90% {\n",
              "      border-color: transparent;\n",
              "      border-bottom-color: var(--fill-color);\n",
              "    }\n",
              "  }\n",
              "</style>\n",
              "\n",
              "  <script>\n",
              "    async function quickchart(key) {\n",
              "      const quickchartButtonEl =\n",
              "        document.querySelector('#' + key + ' button');\n",
              "      quickchartButtonEl.disabled = true;  // To prevent multiple clicks.\n",
              "      quickchartButtonEl.classList.add('colab-df-spinner');\n",
              "      try {\n",
              "        const charts = await google.colab.kernel.invokeFunction(\n",
              "            'suggestCharts', [key], {});\n",
              "      } catch (error) {\n",
              "        console.error('Error during call to suggestCharts:', error);\n",
              "      }\n",
              "      quickchartButtonEl.classList.remove('colab-df-spinner');\n",
              "      quickchartButtonEl.classList.add('colab-df-quickchart-complete');\n",
              "    }\n",
              "    (() => {\n",
              "      let quickchartButtonEl =\n",
              "        document.querySelector('#df-f9f50fd6-4b72-44b6-a2de-2df255201187 button');\n",
              "      quickchartButtonEl.style.display =\n",
              "        google.colab.kernel.accessAllowed ? 'block' : 'none';\n",
              "    })();\n",
              "  </script>\n",
              "</div>\n",
              "\n",
              "    </div>\n",
              "  </div>\n"
            ],
            "application/vnd.google.colaboratory.intrinsic+json": {
              "type": "dataframe",
              "variable_name": "df"
            }
          },
          "metadata": {},
          "execution_count": 3
        }
      ]
    },
    {
      "cell_type": "code",
      "source": [
        "df.fillna(method='ffill', inplace=True)"
      ],
      "metadata": {
        "colab": {
          "base_uri": "https://localhost:8080/"
        },
        "id": "fnpwKu8YIC09",
        "outputId": "d25dd2bf-6fd4-46ad-fdab-52e1e4c44b13"
      },
      "execution_count": 4,
      "outputs": [
        {
          "output_type": "stream",
          "name": "stderr",
          "text": [
            "<ipython-input-4-e9443599d05e>:1: FutureWarning: DataFrame.fillna with 'method' is deprecated and will raise in a future version. Use obj.ffill() or obj.bfill() instead.\n",
            "  df.fillna(method='ffill', inplace=True)\n"
          ]
        }
      ]
    },
    {
      "cell_type": "code",
      "source": [
        "df = df.sample(frac=0.1, random_state=42)"
      ],
      "metadata": {
        "id": "VCYgrdE1I16W"
      },
      "execution_count": 5,
      "outputs": []
    },
    {
      "cell_type": "code",
      "source": [
        "targets = ['InjuryType', 'PatientStatus']\n",
        "solvers = ['lbfgs', 'liblinear', 'newton-cg', 'sag', 'saga']\n",
        "max_iters = [50, 100, 150, 200, 250, 300]"
      ],
      "metadata": {
        "id": "O1YkzqWE2JGl"
      },
      "execution_count": 6,
      "outputs": []
    },
    {
      "cell_type": "code",
      "source": [
        "def plot_learning_curve(X_train, y_train, X_test, y_test, solver, max_iters, target_name):\n",
        "    train_scores, test_scores = [], []\n",
        "\n",
        "    for max_iter in max_iters:\n",
        "        model = LogisticRegression(solver=solver, max_iter=max_iter, random_state=42)\n",
        "        model.fit(X_train, y_train)\n",
        "        train_scores.append(model.score(X_train, y_train))\n",
        "        test_scores.append(model.score(X_test, y_test))\n",
        "\n",
        "    plt.figure()\n",
        "    plt.plot(max_iters, train_scores, 'o-', label='Training Accuracy')\n",
        "    plt.plot(max_iters, test_scores, 'o-', label='Test Accuracy')\n",
        "    plt.xlabel('Max_iter')\n",
        "    plt.ylabel('Accuracy')\n",
        "    plt.title(f'Learning Curve for {target_name} (Solver: {solver})')\n",
        "    plt.legend()\n",
        "    plt.show()\n"
      ],
      "metadata": {
        "id": "OPNu__RGGs3o"
      },
      "execution_count": 7,
      "outputs": []
    },
    {
      "cell_type": "code",
      "source": [
        "for target in targets:\n",
        "    if target not in df.columns:\n",
        "        print(f\"Warning: Target '{target}' not found in dataset columns.\")\n",
        "        continue\n",
        "\n",
        "    print(f\"\\nProcessing for target: {target}\\n\")\n",
        "    X = df.drop(columns=targets)\n",
        "    y = df[target]\n",
        "\n",
        "    categorical_cols = X.select_dtypes(include=['object']).columns.tolist()\n",
        "    X = pd.get_dummies(X, columns=categorical_cols, drop_first=True)\n",
        "\n",
        "    X_train, X_test, y_train, y_test = train_test_split(X, y, test_size=0.2, random_state=42)\n",
        "    scaler = RobustScaler()\n",
        "    X_train = scaler.fit_transform(X_train)\n",
        "    X_test = scaler.transform(X_test)\n",
        "\n",
        "    model = LogisticRegression(solver='liblinear', max_iter=100, random_state=42)\n",
        "    model.fit(X_train, y_train)"
      ],
      "metadata": {
        "colab": {
          "base_uri": "https://localhost:8080/"
        },
        "id": "QvnKFHo5GxLG",
        "outputId": "d99db815-4b6a-4e0e-e805-9a3fb25fe39f"
      },
      "execution_count": 11,
      "outputs": [
        {
          "output_type": "stream",
          "name": "stdout",
          "text": [
            "\n",
            "Processing for target: InjuryType\n",
            "\n",
            "\n",
            "Processing for target: PatientStatus\n",
            "\n"
          ]
        }
      ]
    },
    {
      "cell_type": "code",
      "source": [
        "\n",
        "    y_pred = model.predict(X_test)\n",
        "    accuracy = accuracy_score(y_test, y_pred)\n",
        "    confusion = confusion_matrix(y_test, y_pred)\n",
        "    precision = precision_score(y_test, y_pred, average='macro')\n",
        "    recall = recall_score(y_test, y_pred, average='macro')\n",
        "    f1 = f1_score(y_test, y_pred, average='macro')"
      ],
      "metadata": {
        "colab": {
          "base_uri": "https://localhost:8080/"
        },
        "id": "FReVKcEz7YHW",
        "outputId": "5870c6a7-aa54-4f5e-ad3e-3f60ee58e627"
      },
      "execution_count": 14,
      "outputs": [
        {
          "output_type": "stream",
          "name": "stderr",
          "text": [
            "/usr/local/lib/python3.10/dist-packages/sklearn/metrics/_classification.py:1531: UndefinedMetricWarning: Precision is ill-defined and being set to 0.0 in labels with no predicted samples. Use `zero_division` parameter to control this behavior.\n",
            "  _warn_prf(average, modifier, f\"{metric.capitalize()} is\", len(result))\n"
          ]
        }
      ]
    },
    {
      "cell_type": "code",
      "source": [
        "    print(f\"Accuracy: {accuracy}\")\n",
        "    print(\"Confusion Matrix:\\n\", confusion)\n",
        "    print(f\"Precision: {precision}\")\n",
        "    print(f\"Recall: {recall}\")\n",
        "    print(f\"F1 Score: {f1}\")\n"
      ],
      "metadata": {
        "colab": {
          "base_uri": "https://localhost:8080/"
        },
        "id": "L3Vj3m49C6da",
        "outputId": "a247d196-e1b4-40d2-d342-7c1a1e2e8ea9"
      },
      "execution_count": 15,
      "outputs": [
        {
          "output_type": "stream",
          "name": "stdout",
          "text": [
            "Accuracy: 0.6417748917748918\n",
            "Confusion Matrix:\n",
            " [[282 134   0]\n",
            " [183 311   0]\n",
            " [  3  11   0]]\n",
            "Precision: 0.42819388214125054\n",
            "Recall: 0.43581309041835353\n",
            "F1 Score: 0.4309152972930062\n"
          ]
        }
      ]
    },
    {
      "cell_type": "code",
      "source": [
        "plot_learning_curve(X_train, y_train, X_test, y_test, solver='liblinear', max_iters=max_iters, target_name=target)"
      ],
      "metadata": {
        "colab": {
          "base_uri": "https://localhost:8080/",
          "height": 472
        },
        "id": "x5BxFbpBNBf0",
        "outputId": "efaab213-d992-4df8-ef41-b2e17ad6c9ae"
      },
      "execution_count": 16,
      "outputs": [
        {
          "output_type": "display_data",
          "data": {
            "text/plain": [
              "<Figure size 640x480 with 1 Axes>"
            ],
            "image/png": "[encoded data removed]"
          },
          "metadata": {}
        }
      ]
    }
  ]
}