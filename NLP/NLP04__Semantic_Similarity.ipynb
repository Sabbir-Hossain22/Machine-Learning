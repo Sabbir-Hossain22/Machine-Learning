{
  "cells": [
    {
      "cell_type": "code",
      "execution_count": 16,
      "metadata": {
        "colab": {
          "base_uri": "https://localhost:8080/"
        },
        "id": "jqiHAEptzzfD",
        "outputId": "0aab9910-95d3-4cb9-9355-a419e3d83fee"
      },
      "outputs": [
        {
          "output_type": "stream",
          "name": "stdout",
          "text": [
            "Drive already mounted at /content/drive; to attempt to forcibly remount, call drive.mount(\"/content/drive\", force_remount=True).\n"
          ]
        }
      ],
      "source": [
        "from google.colab import drive\n",
        "drive.mount('/content/drive')"
      ]
    },
    {
      "cell_type": "code",
      "execution_count": 17,
      "metadata": {
        "id": "R8DpCpgEyO7p"
      },
      "outputs": [],
      "source": [
        "import pandas as pd\n",
        "import re"
      ]
    },
    {
      "cell_type": "code",
      "execution_count": 18,
      "metadata": {
        "id": "-mJ77j9oydYE"
      },
      "outputs": [],
      "source": [
        "dataset = pd.read_csv(\"/content/1M_text_data.csv\")"
      ]
    },
    {
      "cell_type": "code",
      "execution_count": 19,
      "metadata": {
        "colab": {
          "base_uri": "https://localhost:8080/",
          "height": 53
        },
        "id": "kc9z-SI1ygZZ",
        "outputId": "b411ba9e-94ad-4f04-9dc1-fc5a7aad7349"
      },
      "outputs": [
        {
          "output_type": "execute_result",
          "data": {
            "text/plain": [
              "'Readers, however, have the advantage of having an order easy. MP3 players, however, have the advantage of having easy controls. 0'"
            ],
            "application/vnd.google.colaboratory.intrinsic+json": {
              "type": "string"
            }
          },
          "metadata": {},
          "execution_count": 19
        }
      ],
      "source": [
        "dataset.loc[len(dataset)-300, 'text']"
      ]
    },
    {
      "cell_type": "code",
      "execution_count": 20,
      "metadata": {
        "id": "npzYjIkKyheK"
      },
      "outputs": [],
      "source": [
        "def clean_data(text):\n",
        "  text = text.lower()\n",
        "  text = re.sub(\"\\s[0-9]+\", ' ', text)\n",
        "  text = text.strip()\n",
        "  return text"
      ]
    },
    {
      "cell_type": "code",
      "execution_count": 21,
      "metadata": {
        "id": "6YDhC09sy1yq"
      },
      "outputs": [],
      "source": [
        "for i in range(len(dataset)):\n",
        "  dataset.loc[i, 'text'] = clean_data(dataset.loc[i, 'text'])"
      ]
    },
    {
      "cell_type": "code",
      "execution_count": 22,
      "metadata": {
        "colab": {
          "base_uri": "https://localhost:8080/",
          "height": 53
        },
        "id": "HFAgUdwX0HVa",
        "outputId": "58c414d2-7f2e-4285-e775-0bc38151fa4d"
      },
      "outputs": [
        {
          "output_type": "execute_result",
          "data": {
            "text/plain": [
              "'readers, however, have the advantage of having an order easy. mp3 players, however, have the advantage of having easy controls.'"
            ],
            "application/vnd.google.colaboratory.intrinsic+json": {
              "type": "string"
            }
          },
          "metadata": {},
          "execution_count": 22
        }
      ],
      "source": [
        "dataset.loc[len(dataset)-300, 'text']"
      ]
    },
    {
      "cell_type": "code",
      "execution_count": 23,
      "metadata": {
        "id": "tQgxnd7Q0yO9"
      },
      "outputs": [],
      "source": [
        "text = [row.split() for row in dataset['text']]"
      ]
    },
    {
      "cell_type": "code",
      "execution_count": 24,
      "metadata": {
        "colab": {
          "base_uri": "https://localhost:8080/",
          "height": 71
        },
        "id": "15iTmOqn1Fsy",
        "outputId": "d25db80f-3af9-45d9-ceb6-bf9d52bd2bb1"
      },
      "outputs": [
        {
          "output_type": "execute_result",
          "data": {
            "text/plain": [
              "'as she translates from one language to another , she tries to find the appropriate wording and context in english that would correspond to the work in spanish her poems and stories started to have differing meanings in their respective languages .'"
            ],
            "application/vnd.google.colaboratory.intrinsic+json": {
              "type": "string"
            }
          },
          "metadata": {},
          "execution_count": 24
        }
      ],
      "source": [
        "dataset.loc[0, 'text']"
      ]
    },
    {
      "cell_type": "code",
      "execution_count": 25,
      "metadata": {
        "id": "PphrYry904IR",
        "colab": {
          "base_uri": "https://localhost:8080/"
        },
        "outputId": "2381316b-a2fc-49ca-dfe0-2aa3010d37b4"
      },
      "outputs": [
        {
          "output_type": "execute_result",
          "data": {
            "text/plain": [
              "[['as',\n",
              "  'she',\n",
              "  'translates',\n",
              "  'from',\n",
              "  'one',\n",
              "  'language',\n",
              "  'to',\n",
              "  'another',\n",
              "  ',',\n",
              "  'she',\n",
              "  'tries',\n",
              "  'to',\n",
              "  'find',\n",
              "  'the',\n",
              "  'appropriate',\n",
              "  'wording',\n",
              "  'and',\n",
              "  'context',\n",
              "  'in',\n",
              "  'english',\n",
              "  'that',\n",
              "  'would',\n",
              "  'correspond',\n",
              "  'to',\n",
              "  'the',\n",
              "  'work',\n",
              "  'in',\n",
              "  'spanish',\n",
              "  'her',\n",
              "  'poems',\n",
              "  'and',\n",
              "  'stories',\n",
              "  'started',\n",
              "  'to',\n",
              "  'have',\n",
              "  'differing',\n",
              "  'meanings',\n",
              "  'in',\n",
              "  'their',\n",
              "  'respective',\n",
              "  'languages',\n",
              "  '.'],\n",
              " ['bdsm',\n",
              "  'is',\n",
              "  'solely',\n",
              "  'based',\n",
              "  'on',\n",
              "  'consensual',\n",
              "  'activities',\n",
              "  ',',\n",
              "  'and',\n",
              "  'based',\n",
              "  'on',\n",
              "  'its',\n",
              "  'system',\n",
              "  'and',\n",
              "  'laws',\n",
              "  ',',\n",
              "  'the',\n",
              "  'concepts',\n",
              "  'presented',\n",
              "  'by',\n",
              "  'de',\n",
              "  'sade',\n",
              "  'are',\n",
              "  'not',\n",
              "  'agreed',\n",
              "  'upon',\n",
              "  'the',\n",
              "  'bdsm',\n",
              "  'culture',\n",
              "  ',',\n",
              "  'even',\n",
              "  'though',\n",
              "  'they',\n",
              "  'are',\n",
              "  'sadistic',\n",
              "  'in',\n",
              "  'nature',\n",
              "  '.']]"
            ]
          },
          "metadata": {},
          "execution_count": 25
        }
      ],
      "source": [
        "text[:2]"
      ]
    },
    {
      "cell_type": "code",
      "execution_count": 26,
      "metadata": {
        "colab": {
          "base_uri": "https://localhost:8080/"
        },
        "id": "e1PnQtV-27Qm",
        "outputId": "036fa934-66f0-422b-a3f1-3bf40da3b3de"
      },
      "outputs": [
        {
          "output_type": "execute_result",
          "data": {
            "text/plain": [
              "1004809"
            ]
          },
          "metadata": {},
          "execution_count": 26
        }
      ],
      "source": [
        "len(text)"
      ]
    },
    {
      "cell_type": "code",
      "execution_count": 27,
      "metadata": {
        "colab": {
          "base_uri": "https://localhost:8080/"
        },
        "id": "rEVCEZFO2-jf",
        "outputId": "c439a839-791c-4a2c-c3ab-78cc3b227ab4"
      },
      "outputs": [
        {
          "output_type": "execute_result",
          "data": {
            "text/plain": [
              "list"
            ]
          },
          "metadata": {},
          "execution_count": 27
        }
      ],
      "source": [
        "type(text)"
      ]
    },
    {
      "cell_type": "code",
      "execution_count": 28,
      "metadata": {
        "id": "QWa8g-hG2M0C"
      },
      "outputs": [],
      "source": [
        "import itertools\n",
        "def total_word_freq(df):\n",
        "    words = list(itertools.chain.from_iterable(df))\n",
        "\n",
        "    count = {}\n",
        "    for word in words:\n",
        "        if word in count:\n",
        "            count[word] += 1\n",
        "        else:\n",
        "            count[word] = 1\n",
        "\n",
        "    return sorted(count.items(), key=lambda x: x[1], reverse=True)"
      ]
    },
    {
      "cell_type": "code",
      "execution_count": 29,
      "metadata": {
        "id": "WI-ZCWOz2Un_"
      },
      "outputs": [],
      "source": [
        "vocab = total_word_freq(text)"
      ]
    },
    {
      "cell_type": "code",
      "execution_count": 30,
      "metadata": {
        "colab": {
          "base_uri": "https://localhost:8080/"
        },
        "id": "UXHPqoPm214s",
        "outputId": "61144ace-ed89-47c7-a803-8310a249e635"
      },
      "outputs": [
        {
          "output_type": "execute_result",
          "data": {
            "text/plain": [
              "557293"
            ]
          },
          "metadata": {},
          "execution_count": 30
        }
      ],
      "source": [
        "len(vocab)"
      ]
    },
    {
      "cell_type": "code",
      "execution_count": 31,
      "metadata": {
        "colab": {
          "base_uri": "https://localhost:8080/"
        },
        "id": "yJlOtYzI3KvH",
        "outputId": "feb9c3f7-fee9-4863-dd94-252bea9b62e1"
      },
      "outputs": [
        {
          "output_type": "execute_result",
          "data": {
            "text/plain": [
              "[('the', 1972814),\n",
              " (',', 1799946),\n",
              " ('and', 1009815),\n",
              " ('.', 989872),\n",
              " ('of', 928224),\n",
              " ('in', 892480),\n",
              " ('a', 685601),\n",
              " ('to', 599434),\n",
              " ('is', 387376),\n",
              " ('was', 384182),\n",
              " ('for', 253433),\n",
              " ('-', 252612),\n",
              " ('as', 246762),\n",
              " ('on', 239966),\n",
              " ('by', 216946),\n",
              " (')', 216522),\n",
              " ('(', 216486),\n",
              " ('he', 214112),\n",
              " ('with', 210246),\n",
              " ('s', 203625)]"
            ]
          },
          "metadata": {},
          "execution_count": 31
        }
      ],
      "source": [
        "vocab[:20]"
      ]
    },
    {
      "cell_type": "code",
      "source": [
        "len(text)"
      ],
      "metadata": {
        "colab": {
          "base_uri": "https://localhost:8080/"
        },
        "id": "xrCRVB5x-YJz",
        "outputId": "ea1b6f6d-ce9e-475c-dfd9-370558eb5b31"
      },
      "execution_count": 32,
      "outputs": [
        {
          "output_type": "execute_result",
          "data": {
            "text/plain": [
              "1004809"
            ]
          },
          "metadata": {},
          "execution_count": 32
        }
      ]
    },
    {
      "cell_type": "code",
      "source": [
        "temp_text = text[:100000]"
      ],
      "metadata": {
        "id": "hn0TZb07-CjR"
      },
      "execution_count": 33,
      "outputs": []
    },
    {
      "cell_type": "code",
      "execution_count": 34,
      "metadata": {
        "id": "JQ6zEWyg09bt"
      },
      "outputs": [],
      "source": [
        "from gensim.models import Word2Vec\n",
        "model = Word2Vec(temp_text, min_count=5, vector_size= 150, workers=3, window =5, sg = 1)"
      ]
    },
    {
      "cell_type": "code",
      "source": [
        "unique_word_set = list(set(itertools.chain.from_iterable(temp_text)))"
      ],
      "metadata": {
        "id": "cMFRpWxO_7zh"
      },
      "execution_count": 35,
      "outputs": []
    },
    {
      "cell_type": "code",
      "source": [
        "len(list(itertools.chain.from_iterable(temp_text)))"
      ],
      "metadata": {
        "colab": {
          "base_uri": "https://localhost:8080/"
        },
        "id": "tcnB8QZ7AUAk",
        "outputId": "cf32a822-37e1-4896-939e-63948fabe797"
      },
      "execution_count": 36,
      "outputs": [
        {
          "output_type": "execute_result",
          "data": {
            "text/plain": [
              "3290906"
            ]
          },
          "metadata": {},
          "execution_count": 36
        }
      ]
    },
    {
      "cell_type": "code",
      "source": [
        "len(unique_word_set)"
      ],
      "metadata": {
        "colab": {
          "base_uri": "https://localhost:8080/"
        },
        "id": "dEhaKQlBAGJR",
        "outputId": "4f1b64dd-3a2e-4620-cd6e-019780a214b7"
      },
      "execution_count": 37,
      "outputs": [
        {
          "output_type": "execute_result",
          "data": {
            "text/plain": [
              "133458"
            ]
          },
          "metadata": {},
          "execution_count": 37
        }
      ]
    },
    {
      "cell_type": "code",
      "source": [
        "model.wv['usa']"
      ],
      "metadata": {
        "colab": {
          "base_uri": "https://localhost:8080/"
        },
        "id": "Z_LCf5QQBC-x",
        "outputId": "0eedd318-d2cc-49bc-bf97-cb59207e009e"
      },
      "execution_count": 38,
      "outputs": [
        {
          "output_type": "execute_result",
          "data": {
            "text/plain": [
              "array([ 0.22296686, -0.31874025, -0.06112695, -0.20265666, -0.26753092,\n",
              "       -0.0705813 ,  0.06146783,  0.07365308,  0.19051048,  0.01670003,\n",
              "        0.44779512, -0.34610093, -0.16857114,  0.17267251, -0.27873546,\n",
              "        0.35612884,  0.13980235,  0.26565483, -0.42984217,  0.23039801,\n",
              "        0.08523444, -0.32039425,  0.18561332,  0.1783503 , -0.25610873,\n",
              "       -0.02068506,  0.03264967,  0.1631113 ,  0.03569774, -0.14282   ,\n",
              "       -0.3062895 , -0.14138497,  0.06804765, -0.09837397, -0.09548946,\n",
              "        0.09006158,  0.14488457,  0.24952617,  0.26270643, -0.18763593,\n",
              "        0.15081002, -0.22199169,  0.15160087,  0.00334152, -0.20068525,\n",
              "       -0.11945431,  0.01565848,  0.2496184 , -0.04777727,  0.126607  ,\n",
              "       -0.0291119 ,  0.04758203,  0.19196011,  0.01084789, -0.09202332,\n",
              "       -0.1957692 , -0.11764976, -0.417695  , -0.039868  , -0.03820822,\n",
              "       -0.00598139, -0.20065603, -0.1681458 , -0.2812024 , -0.13682453,\n",
              "       -0.23939025, -0.44569153,  0.09733038, -0.32614473, -0.12777689,\n",
              "        0.3232308 ,  0.24243025,  0.29797694, -0.30540735, -0.11092325,\n",
              "       -0.24544227,  0.24149022, -0.06539467, -0.08137379,  0.00507125,\n",
              "        0.17950475, -0.11887685, -0.23561788,  0.4069844 , -0.2344799 ,\n",
              "        0.06134101, -0.13900593,  0.06028624,  0.12406406,  0.0431656 ,\n",
              "       -0.07597577,  0.26588532, -0.09903005,  0.04039601,  0.43655547,\n",
              "       -0.03612453, -0.45028976, -0.07302438,  0.2237572 ,  0.39940533,\n",
              "        0.01082504, -0.10566938,  0.02764459,  0.2928267 , -0.4535338 ,\n",
              "       -0.06266337,  0.45911232,  0.16734698, -0.21706748, -0.3780793 ,\n",
              "       -0.24548824, -0.26755777,  0.14895566,  0.06449004, -0.2015926 ,\n",
              "        0.30127946,  0.55033606, -0.13049519,  0.11946671, -0.17540133,\n",
              "        0.08563028, -0.16809224,  0.3009996 , -0.27188325,  0.11634362,\n",
              "        0.32660645, -0.04647145,  0.18614933, -0.02222577,  0.16143432,\n",
              "        0.01305161,  0.04454781,  0.30642012,  0.16911812, -0.21709739,\n",
              "       -0.22457334, -0.18050194,  0.19567199, -0.1436238 ,  0.46392506,\n",
              "        0.20729417, -0.31587732, -0.23856951,  0.7087941 ,  0.2905792 ,\n",
              "        0.02989863,  0.01448531, -0.2255523 ,  0.17797518, -0.05711915],\n",
              "      dtype=float32)"
            ]
          },
          "metadata": {},
          "execution_count": 38
        }
      ]
    },
    {
      "cell_type": "code",
      "source": [
        "import numpy as np\n",
        "from gensim import matutils\n",
        "def similarity_cosine(vec1, vec2):\n",
        "    cosine_similarity = np.dot(matutils.unitvec(vec1), matutils.unitvec(vec2))\n",
        "    return cosine_similarity"
      ],
      "metadata": {
        "id": "RzLX3YkuBBag"
      },
      "execution_count": 39,
      "outputs": []
    },
    {
      "cell_type": "code",
      "execution_count": 40,
      "metadata": {
        "id": "NPgVGZY_3e24",
        "colab": {
          "base_uri": "https://localhost:8080/"
        },
        "outputId": "fa782d4d-fca3-40d3-ab70-452aa2668e8b"
      },
      "outputs": [
        {
          "output_type": "execute_result",
          "data": {
            "text/plain": [
              "0.46438578"
            ]
          },
          "metadata": {},
          "execution_count": 40
        }
      ],
      "source": [
        "similarity_cosine(model.wv['usa'], model.wv['dollar'])"
      ]
    },
    {
      "cell_type": "code",
      "source": [
        "similarity_cosine(model.wv['usa'], model.wv['nasa'])"
      ],
      "metadata": {
        "colab": {
          "base_uri": "https://localhost:8080/"
        },
        "id": "IjnU-f_p_WZm",
        "outputId": "4cc3bbfd-ff2b-48e1-cd4d-019fd6ce112c"
      },
      "execution_count": 41,
      "outputs": [
        {
          "output_type": "execute_result",
          "data": {
            "text/plain": [
              "0.42917553"
            ]
          },
          "metadata": {},
          "execution_count": 41
        }
      ]
    },
    {
      "cell_type": "code",
      "source": [
        "similarity_cosine(model.wv['bangladesh'], model.wv['dhaka'])"
      ],
      "metadata": {
        "colab": {
          "base_uri": "https://localhost:8080/"
        },
        "id": "2JtB99jjCzru",
        "outputId": "3b09ee5a-7339-440b-a04d-bd7de865080d"
      },
      "execution_count": 42,
      "outputs": [
        {
          "output_type": "execute_result",
          "data": {
            "text/plain": [
              "0.76403755"
            ]
          },
          "metadata": {},
          "execution_count": 42
        }
      ]
    },
    {
      "cell_type": "code",
      "source": [
        "model.wv.most_similar('usa')[:10]"
      ],
      "metadata": {
        "colab": {
          "base_uri": "https://localhost:8080/"
        },
        "id": "m1rr8TUAC5Qe",
        "outputId": "c3f1c790-28a4-41e1-8b2b-5a2a8e7232a5"
      },
      "execution_count": 43,
      "outputs": [
        {
          "output_type": "execute_result",
          "data": {
            "text/plain": [
              "[('americas', 0.7367455363273621),\n",
              " ('minneapolis', 0.7358592748641968),\n",
              " ('slovakia', 0.7353056073188782),\n",
              " ('u.k.', 0.7321981191635132),\n",
              " ('helsinki', 0.7321476936340332),\n",
              " ('venezuela', 0.7306073307991028),\n",
              " ('canada', 0.7265208959579468),\n",
              " ('shanghai', 0.725293755531311),\n",
              " ('uzbekistan', 0.723888635635376),\n",
              " ('zambia', 0.7213911414146423)]"
            ]
          },
          "metadata": {},
          "execution_count": 43
        }
      ]
    },
    {
      "cell_type": "code",
      "source": [
        "model.wv.most_similar('football')[:10]"
      ],
      "metadata": {
        "colab": {
          "base_uri": "https://localhost:8080/"
        },
        "id": "omi8CAIEC_UF",
        "outputId": "18cb1476-2b1d-4b18-f877-f8f2b27e29a3"
      },
      "execution_count": 44,
      "outputs": [
        {
          "output_type": "execute_result",
          "data": {
            "text/plain": [
              "[('soccer', 0.8209167122840881),\n",
              " ('basketball', 0.8149868845939636),\n",
              " ('handball', 0.777335524559021),\n",
              " ('hockey', 0.7746652364730835),\n",
              " ('linebacker', 0.7648254036903381),\n",
              " ('cornerback', 0.7600213289260864),\n",
              " ('hc', 0.7587793469429016),\n",
              " ('a-league', 0.7482083439826965),\n",
              " ('rugby', 0.7468588352203369),\n",
              " ('canadiens', 0.7458853721618652)]"
            ]
          },
          "metadata": {},
          "execution_count": 44
        }
      ]
    },
    {
      "cell_type": "code",
      "source": [
        "from gensim.models import Word2Vec\n",
        "model = Word2Vec(temp_text, min_count=1,vector_size= 300,workers=2, window =5, sg = 0)"
      ],
      "metadata": {
        "id": "yOMyWXpUDKdC"
      },
      "execution_count": 45,
      "outputs": []
    },
    {
      "cell_type": "code",
      "source": [
        "similarity_cosine(model.wv['bangladesh'], model.wv['dhaka'])"
      ],
      "metadata": {
        "colab": {
          "base_uri": "https://localhost:8080/"
        },
        "id": "SLrpKfUrDYmG",
        "outputId": "43eb73b7-527a-4139-92af-70620c8e18c0"
      },
      "execution_count": 46,
      "outputs": [
        {
          "output_type": "execute_result",
          "data": {
            "text/plain": [
              "0.8974245"
            ]
          },
          "metadata": {},
          "execution_count": 46
        }
      ]
    },
    {
      "cell_type": "code",
      "source": [
        "similarity_cosine(model.wv['usa'], model.wv['nasa'])"
      ],
      "metadata": {
        "colab": {
          "base_uri": "https://localhost:8080/"
        },
        "id": "SL7ZJUdNDy6e",
        "outputId": "f887c218-dffd-47f9-9afc-a886b1da1d59"
      },
      "execution_count": 47,
      "outputs": [
        {
          "output_type": "execute_result",
          "data": {
            "text/plain": [
              "0.3671931"
            ]
          },
          "metadata": {},
          "execution_count": 47
        }
      ]
    },
    {
      "cell_type": "code",
      "source": [
        "model.wv.most_similar(positive=['woman', 'king'], negative=['man'])[0][0]"
      ],
      "metadata": {
        "colab": {
          "base_uri": "https://localhost:8080/",
          "height": 35
        },
        "id": "cJphbP6_FFM9",
        "outputId": "645876ce-9448-43f3-bee8-f182ad2def70"
      },
      "execution_count": 48,
      "outputs": [
        {
          "output_type": "execute_result",
          "data": {
            "text/plain": [
              "'queen'"
            ],
            "application/vnd.google.colaboratory.intrinsic+json": {
              "type": "string"
            }
          },
          "metadata": {},
          "execution_count": 48
        }
      ]
    },
    {
      "cell_type": "code",
      "source": [
        "model.wv.most_similar(positive=['india', 'usa'], negative=['bangladesh'])"
      ],
      "metadata": {
        "colab": {
          "base_uri": "https://localhost:8080/"
        },
        "id": "ESxv6RrsFFGY",
        "outputId": "139c468f-c73f-4c93-e394-a5c967892278"
      },
      "execution_count": 49,
      "outputs": [
        {
          "output_type": "execute_result",
          "data": {
            "text/plain": [
              "[('australia', 0.8404116630554199),\n",
              " ('canada', 0.8118502497673035),\n",
              " ('europe', 0.8108347654342651),\n",
              " ('uk', 0.7487799525260925),\n",
              " ('japan', 0.743815004825592),\n",
              " ('ireland', 0.7189956307411194),\n",
              " ('america', 0.7171960473060608),\n",
              " ('africa', 0.7124066948890686),\n",
              " ('asia', 0.7048414349555969),\n",
              " ('south', 0.6976654529571533)]"
            ]
          },
          "metadata": {},
          "execution_count": 49
        }
      ]
    },
    {
      "cell_type": "code",
      "source": [
        "def find_similarity(text1, text2):\n",
        "  text1 = clean_data(text1)\n",
        "  text2 = clean_data(text2)\n",
        "  text1 = text1.split()\n",
        "  text2 = text2.split()\n",
        "  vector1 = 0\n",
        "  vector2 = 0\n",
        "\n",
        "  for word in text1:\n",
        "    vector1 += model.wv[word]\n",
        "  for word in text2:\n",
        "    vector2 += model.wv[word]\n",
        "\n",
        "  return similarity_cosine(vector1, vector2)"
      ],
      "metadata": {
        "id": "Y14wDs7iD1Z2"
      },
      "execution_count": 50,
      "outputs": []
    },
    {
      "cell_type": "code",
      "source": [
        "text1 = \"Messi is a football player\"\n",
        "text2 = \"You are beautiful and nice\"\n",
        "\n",
        "find_similarity(text1, text2)"
      ],
      "metadata": {
        "colab": {
          "base_uri": "https://localhost:8080/"
        },
        "id": "YkaytdA3Eh8Y",
        "outputId": "d40cbc65-d900-4a68-91fa-5455ab82cd00"
      },
      "execution_count": 51,
      "outputs": [
        {
          "output_type": "execute_result",
          "data": {
            "text/plain": [
              "0.32839355"
            ]
          },
          "metadata": {},
          "execution_count": 51
        }
      ]
    },
    {
      "cell_type": "code",
      "source": [
        "text1 = \"Messi is a football player\"\n",
        "text2 = \"Messi has a great career\"\n",
        "\n",
        "find_similarity(text1, text2)"
      ],
      "metadata": {
        "colab": {
          "base_uri": "https://localhost:8080/"
        },
        "id": "kNCpMf3jEpOa",
        "outputId": "4f302561-7156-419b-a095-960fe0610d4a"
      },
      "execution_count": 52,
      "outputs": [
        {
          "output_type": "execute_result",
          "data": {
            "text/plain": [
              "0.6265736"
            ]
          },
          "metadata": {},
          "execution_count": 52
        }
      ]
    },
    {
      "cell_type": "code",
      "source": [
        "text1 = \"Stop\"\n",
        "text2 = \"Go as far as you can\"\n",
        "\n",
        "find_similarity(text1, text2)"
      ],
      "metadata": {
        "colab": {
          "base_uri": "https://localhost:8080/"
        },
        "id": "P_OmqediG9d1",
        "outputId": "e93aa6c3-c435-47ca-e4d5-ad0f877d8157"
      },
      "execution_count": 53,
      "outputs": [
        {
          "output_type": "execute_result",
          "data": {
            "text/plain": [
              "0.6627214"
            ]
          },
          "metadata": {},
          "execution_count": 53
        }
      ]
    },
    {
      "cell_type": "code",
      "source": [
        "text1 = \"let us go\"\n",
        "text2 = \"Go as far as you can\"\n",
        "\n",
        "find_similarity(text1, text2)"
      ],
      "metadata": {
        "colab": {
          "base_uri": "https://localhost:8080/"
        },
        "id": "Bam-suVRI-zB",
        "outputId": "5a88713b-c591-4b6a-dbc7-2e9b92f817b0"
      },
      "execution_count": 54,
      "outputs": [
        {
          "output_type": "execute_result",
          "data": {
            "text/plain": [
              "0.7056734"
            ]
          },
          "metadata": {},
          "execution_count": 54
        }
      ]
    },
    {
      "cell_type": "code",
      "source": [],
      "metadata": {
        "id": "45Qmi3lQJhAa"
      },
      "execution_count": 54,
      "outputs": []
    }
  ],
  "metadata": {
    "colab": {
      "provenance": []
    },
    "kernelspec": {
      "display_name": "Python 3",
      "name": "python3"
    },
    "language_info": {
      "name": "python"
    }
  },
  "nbformat": 4,
  "nbformat_minor": 0
}